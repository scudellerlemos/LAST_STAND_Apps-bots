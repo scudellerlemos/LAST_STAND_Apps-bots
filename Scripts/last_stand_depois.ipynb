{
 "cells": [
  {
   "cell_type": "code",
   "execution_count": null,
   "metadata": {},
   "outputs": [],
   "source": [
    "import pandas as pd\n",
    "import requests as req\n",
    "import os\n",
    "import boto3\n",
    "from io import StringIO\n",
    "from io import BytesIO\n",
    "from discord_webhook import DiscordWebhook\n",
    "from github import Github\n",
    "\n",
    "#chaves\n",
    "WEBHOOK_SAIU_FC=os.environ[\"WEBHOOK_SAIU_FC\"]\n",
    "WEBHOOK_ENTROU_FC=os.environ[\"WEBHOOK_ENTROU_FC\"]\n",
    "GITHUB_PASSWORD=os.environ[\"G_PASSWORD\"]\n",
    "GITHUB_REPO=os.environ[\"G_REPO\"]"
   ]
  },
  {
   "cell_type": "code",
   "execution_count": null,
   "metadata": {},
   "outputs": [],
   "source": [
    "#Pegar JSON FILE da FC\n",
    "def dados_FC():\n",
    "    response = req.get(\"https://xivapi.com/freecompany/9234349560946634431?data=FCM\")\n",
    "    return response.json()\n"
   ]
  },
  {
   "cell_type": "code",
   "execution_count": null,
   "metadata": {},
   "outputs": [],
   "source": [
    "#Criação da tabela de membros de hoje\n",
    "MEMBROS_FC_DEPOIS = pd.DataFrame(dados_FC()[\"FreeCompanyMembers\"])\n",
    "MEMBROS_FC_DEPOIS.drop([\"Lang\",\"RankIcon\",\"FeastMatches\",\"Server\"],axis = 1, inplace = True)\n"
   ]
  },
  {
   "cell_type": "code",
   "execution_count": null,
   "metadata": {},
   "outputs": [],
   "source": [
    "#Criação da tabela de ontem\n",
    "url = \"https://raw.githubusercontent.com/scudellerlemos/App_usuarios_last_santd/main/Scripts/RAW_MEMBROS_BACKUP.csv\"\n",
    "MEMBROS_FC_antes = pd.read_csv(url)\n"
   ]
  },
  {
   "cell_type": "code",
   "execution_count": null,
   "metadata": {},
   "outputs": [],
   "source": [
    "#Listas com os IDs das tabelas\n",
    "Lista_membros_depois = list(MEMBROS_FC_DEPOIS[\"ID\"])\n",
    "Lista_membros_antes = list(MEMBROS_FC_antes[\"ID\"])\n",
    "Lista_membros_total = list(dict.fromkeys(Lista_membros_antes+Lista_membros_depois))\n"
   ]
  },
  {
   "cell_type": "code",
   "execution_count": null,
   "metadata": {},
   "outputs": [],
   "source": [
    "#Criação das listas das pessoas que entraram na FC ou sairam\n",
    "lista_entrou = []\n",
    "lista_saiu = []\n",
    "lista_lixo = []\n",
    "for ID in Lista_membros_total:\n",
    "    ##saiu\n",
    "    if ID in Lista_membros_antes:\n",
    "        if ID in Lista_membros_depois:\n",
    "            lista_lixo = []\n",
    "        else:\n",
    "            lista_saiu.append(ID)\n",
    "    ##entrou\n",
    "    else:\n",
    "        if ID in Lista_membros_depois:\n",
    "            lista_entrou.append(ID)\n",
    "        else:\n",
    "            lista_lixo = []"
   ]
  },
  {
   "cell_type": "code",
   "execution_count": null,
   "metadata": {},
   "outputs": [],
   "source": [
    "dados = pd.concat([MEMBROS_FC_DEPOIS,MEMBROS_FC_antes],ignore_index=True)\n",
    "dados.drop_duplicates(subset=[\"ID\"],inplace=True)\n",
    "#Dataframe das pessoas que entraram da FC\n",
    "dados_entrou=dados[dados['ID'].isin(lista_entrou)]\n",
    "#Dataframe das pessoas que sairam da FC\n",
    "dados_saiu=dados[dados['ID'].isin(lista_saiu)]"
   ]
  },
  {
   "cell_type": "code",
   "execution_count": null,
   "metadata": {},
   "outputs": [],
   "source": [
    "dados_entrou.reset_index(drop = True, inplace = True)\n",
    "dados_saiu.reset_index(drop = True, inplace = True)\n"
   ]
  },
  {
   "cell_type": "code",
   "execution_count": null,
   "metadata": {},
   "outputs": [],
   "source": [
    "#postagem das mensagens no discord\n",
    "if len(lista_entrou)>0:\n",
    "    for i in range(0,len(lista_entrou)):\n",
    "        webhook = DiscordWebhook(url=WEBHOOK_ENTROU_FC, content=str(dados_entrou[\"Name\"][i]) +  \"  (ID:\"+ str(dados_entrou[\"ID\"][i])+\")  entrou na fc.\")\n",
    "        response = webhook.execute()  "
   ]
  },
  {
   "cell_type": "code",
   "execution_count": null,
   "metadata": {},
   "outputs": [],
   "source": [
    "##postagem das mensagens no discord\n",
    "if len(lista_saiu)>0:\n",
    "    for i in range(0,len(lista_saiu)):\n",
    "        webhook = DiscordWebhook(url=WEBHOOK_SAIU_FC, content=str(dados_entrou[\"Name\"][i]) +  \"  (ID:\"+ str(dados_entrou[\"ID\"][i])+\")  saiu da fc.\")\n",
    "        response = webhook.execute()   "
   ]
  },
  {
   "cell_type": "code",
   "execution_count": null,
   "metadata": {},
   "outputs": [],
   "source": [
    "#Fazendo login no git\n",
    "g = Github(GITHUB_PASSWORD)\n"
   ]
  },
  {
   "cell_type": "code",
   "execution_count": null,
   "metadata": {},
   "outputs": [],
   "source": [
    "#listando o repositorio\n",
    "repo = g.get_user().get_repo(GITHUB_REPO)\n",
    "all_files = []\n",
    "contents = repo.get_contents(\"\")\n",
    "while contents:\n",
    "    file_content = contents.pop(0)\n",
    "    if file_content.type == \"dir\":\n",
    "        contents.extend(repo.get_contents(file_content.path))\n",
    "    else:\n",
    "        file = file_content\n",
    "        all_files.append(str(file).replace('ContentFile(path=\"','').replace('\")',''))"
   ]
  },
  {
   "cell_type": "code",
   "execution_count": null,
   "metadata": {},
   "outputs": [],
   "source": [
    "#gerando conteudo do arquivo do df em csv, mas sem gerar o arquivo. É guardado o conteudo na variavel str chamada \"content\"\n",
    "csv_buf = StringIO()\n",
    "MEMBROS_FC_DEPOIS.to_csv(csv_buf, header=True, index = False)\n",
    "csv_buf.seek(0)\n",
    "content=csv_buf.getvalue()"
   ]
  },
  {
   "cell_type": "code",
   "execution_count": null,
   "metadata": {},
   "outputs": [],
   "source": [
    "# Upload para github\n",
    "git_prefix = 'Scripts/'\n",
    "git_file = git_prefix + 'RAW_MEMBROS_BACKUP.csv'\n",
    "if git_file in all_files:\n",
    "    contents = repo.get_contents(git_file)\n",
    "    repo.update_file(contents.path, \"comitando arquivos\", content, contents.sha, branch=\"main\")\n",
    "    print(git_file + ' Atualizado')\n",
    "else:\n",
    "    repo.create_file(git_file, \"comitando arquivos\", content, branch=\"main\")\n",
    "    print(git_file + ' Criado')"
   ]
  }
 ],
 "metadata": {
  "kernelspec": {
   "display_name": "Python 3",
   "language": "python",
   "name": "python3"
  },
  "language_info": {
   "codemirror_mode": {
    "name": "ipython",
    "version": 3
   },
   "file_extension": ".py",
   "mimetype": "text/x-python",
   "name": "python",
   "nbconvert_exporter": "python",
   "pygments_lexer": "ipython3",
   "version": "3.9.10"
  },
  "orig_nbformat": 4,
  "vscode": {
   "interpreter": {
    "hash": "1a0efc7ed7210c8daa9aadd584bbae766f571d407ba1506112b0e572af6a4d67"
   }
  }
 },
 "nbformat": 4,
 "nbformat_minor": 2
}
