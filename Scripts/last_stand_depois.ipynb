{
 "cells": [
  {
   "cell_type": "code",
   "execution_count": 29,
   "metadata": {},
   "outputs": [
    {
     "ename": "KeyError",
     "evalue": "'repo-token'",
     "output_type": "error",
     "traceback": [
      "\u001b[1;31m---------------------------------------------------------------------------\u001b[0m",
      "\u001b[1;31mKeyError\u001b[0m                                  Traceback (most recent call last)",
      "Cell \u001b[1;32mIn[29], line 5\u001b[0m\n\u001b[0;32m      2\u001b[0m \u001b[39mimport\u001b[39;00m \u001b[39mrequests\u001b[39;00m \u001b[39mas\u001b[39;00m \u001b[39mreq\u001b[39;00m\n\u001b[0;32m      3\u001b[0m \u001b[39mimport\u001b[39;00m \u001b[39mos\u001b[39;00m\n\u001b[1;32m----> 5\u001b[0m git_key\u001b[39m=\u001b[39mos\u001b[39m.\u001b[39;49menviron[\u001b[39m'\u001b[39;49m\u001b[39mrepo-token\u001b[39;49m\u001b[39m'\u001b[39;49m]\n\u001b[0;32m      7\u001b[0m \u001b[39m#header\u001b[39;00m\n\u001b[0;32m      8\u001b[0m header \u001b[39m=\u001b[39m {\u001b[39m'\u001b[39m\u001b[39mauthorization\u001b[39m\u001b[39m'\u001b[39m:\u001b[39m\"\u001b[39m\u001b[39mMTgxMTQxOTc4NDI2MjQ1MTQx.GVYK3q.h0foW84_xppMmm1xnBzWuWc-n6a2OH7ADGtzkg\u001b[39m\u001b[39m\"\u001b[39m}\n",
      "File \u001b[1;32mc:\\Users\\felip\\AppData\\Local\\Programs\\Python\\Python39\\lib\\os.py:679\u001b[0m, in \u001b[0;36m_Environ.__getitem__\u001b[1;34m(self, key)\u001b[0m\n\u001b[0;32m    676\u001b[0m     value \u001b[39m=\u001b[39m \u001b[39mself\u001b[39m\u001b[39m.\u001b[39m_data[\u001b[39mself\u001b[39m\u001b[39m.\u001b[39mencodekey(key)]\n\u001b[0;32m    677\u001b[0m \u001b[39mexcept\u001b[39;00m \u001b[39mKeyError\u001b[39;00m:\n\u001b[0;32m    678\u001b[0m     \u001b[39m# raise KeyError with the original key value\u001b[39;00m\n\u001b[1;32m--> 679\u001b[0m     \u001b[39mraise\u001b[39;00m \u001b[39mKeyError\u001b[39;00m(key) \u001b[39mfrom\u001b[39;00m \u001b[39mNone\u001b[39m\n\u001b[0;32m    680\u001b[0m \u001b[39mreturn\u001b[39;00m \u001b[39mself\u001b[39m\u001b[39m.\u001b[39mdecodevalue(value)\n",
      "\u001b[1;31mKeyError\u001b[0m: 'repo-token'"
     ]
    }
   ],
   "source": [
    "import pandas as pd\n",
    "import requests as req\n",
    "import os\n",
    "\n",
    "\n",
    "#header\n",
    "header = {'authorization':\"MTgxMTQxOTc4NDI2MjQ1MTQx.GVYK3q.h0foW84_xppMmm1xnBzWuWc-n6a2OH7ADGtzkg\"}\n"
   ]
  },
  {
   "cell_type": "code",
   "execution_count": 16,
   "metadata": {},
   "outputs": [],
   "source": [
    "#Pegar JSON FILE da FC\n",
    "def dados_FC():\n",
    "    response = req.get(\"https://xivapi.com/freecompany/9234349560946634431?data=FCM\")\n",
    "    return response.json()\n"
   ]
  },
  {
   "cell_type": "code",
   "execution_count": 17,
   "metadata": {},
   "outputs": [],
   "source": [
    "#Criação da tabela de membros de hoje\n",
    "MEMBROS_FC_DEPOIS = pd.DataFrame(dados_FC()[\"FreeCompanyMembers\"])\n",
    "MEMBROS_FC_DEPOIS.drop([\"Lang\",\"RankIcon\",\"FeastMatches\",\"Server\"],axis = 1, inplace = True)\n"
   ]
  },
  {
   "cell_type": "code",
   "execution_count": 18,
   "metadata": {},
   "outputs": [],
   "source": [
    "#Criação da tabela de ontem\n",
    "url = \"https://raw.githubusercontent.com/scudellerlemos/App_usuarios_last_santd/main/Scripts/RAW_MEMBROS_BACKUP.csv\"\n",
    "MEMBROS_FC_antes = pd.read_csv(url)\n",
    "MEMBROS_FC_antes.drop(\"Unnamed: 0\",axis=1,inplace=True)\n"
   ]
  },
  {
   "cell_type": "code",
   "execution_count": 19,
   "metadata": {},
   "outputs": [],
   "source": [
    "#Listas com os IDs das tabelas\n",
    "Lista_membros_depois = list(MEMBROS_FC_DEPOIS[\"ID\"])\n",
    "Lista_membros_antes = list(MEMBROS_FC_antes[\"ID\"])\n",
    "Lista_membros_total = list(dict.fromkeys(Lista_membros_antes+Lista_membros_depois))\n"
   ]
  },
  {
   "cell_type": "code",
   "execution_count": 20,
   "metadata": {},
   "outputs": [],
   "source": [
    "#Criação das listas das pessoas que entraram na FC ou sairam\n",
    "lista_entrou=[]\n",
    "lista_saiu=[]\n",
    "lista_lixo=[]\n",
    "for ID in Lista_membros_total:\n",
    "    ##saiu\n",
    "    if ID in Lista_membros_antes:\n",
    "        if ID in Lista_membros_depois:\n",
    "            lista_lixo=[]\n",
    "        else:\n",
    "            lista_saiu.append(ID)\n",
    "    ##entrou\n",
    "    else:\n",
    "        if ID in Lista_membros_depois:\n",
    "            lista_entrou.append(ID)\n",
    "        else:\n",
    "            lista_lixo=[]\n",
    "\n"
   ]
  },
  {
   "cell_type": "code",
   "execution_count": 21,
   "metadata": {},
   "outputs": [],
   "source": [
    "dados = pd.concat([MEMBROS_FC_DEPOIS,MEMBROS_FC_antes],ignore_index=True)\n",
    "dados.drop_duplicates(subset=[\"ID\"],inplace=True)\n",
    "#Dataframe das pessoas que entraram da FC\n",
    "dados_entrou=dados[dados['ID'].isin(lista_entrou)]\n",
    "#Dataframe das pessoas que sairam da FC\n",
    "dados_saiu=dados[dados['ID'].isin(lista_saiu)]"
   ]
  },
  {
   "cell_type": "code",
   "execution_count": 22,
   "metadata": {},
   "outputs": [],
   "source": [
    "dados_entrou.reset_index(drop = True, inplace = True)\n",
    "dados_saiu.reset_index(drop = True, inplace = True)\n"
   ]
  },
  {
   "cell_type": "code",
   "execution_count": 23,
   "metadata": {},
   "outputs": [],
   "source": [
    "#postagem das mensagens no discord\n",
    "if len(lista_entrou)>0:\n",
    "    for i in range(0,len(lista_entrou)):\n",
    "        payload = {\n",
    "        'content': str(dados_entrou[\"Name\"][i]) +  \"  (ID:\"+ str(dados_entrou[\"ID\"][i])+\")  entrou na fc.\"\n",
    "        }\n",
    "        response = req.post(f\"https://discord.com/api/v9/channels/1066456073504034966/messages\",data=payload, headers=header)\n",
    "        response.json()    "
   ]
  },
  {
   "cell_type": "code",
   "execution_count": 24,
   "metadata": {},
   "outputs": [],
   "source": [
    "##postagem das mensagens no discord\n",
    "if len(lista_saiu)>0:\n",
    "    for i in range(0,len(lista_saiu)):\n",
    "        payload = {\n",
    "        'content':str(dados_saiu[\"Name\"][i]) +  \"  (ID:\"+ str(dados_saiu[\"ID\"][i])+\")  saiu da fc.\"\n",
    "        }\n",
    "        response = req.post(f\"https://discord.com/api/v9/channels/1066455910228164690/messages\",data=payload, headers=header)\n",
    "        response.json()   "
   ]
  },
  {
   "cell_type": "code",
   "execution_count": 25,
   "metadata": {},
   "outputs": [],
   "source": [
    "MEMBROS_FC_antes = MEMBROS_FC_DEPOIS\n",
    "MEMBROS_FC_antes.to_csv(\"RAW_MEMBROS_BACKUP.csv\")"
   ]
  },
  {
   "cell_type": "code",
   "execution_count": 30,
   "metadata": {},
   "outputs": [
    {
     "ename": "KeyError",
     "evalue": "'repo-token'",
     "output_type": "error",
     "traceback": [
      "\u001b[1;31m---------------------------------------------------------------------------\u001b[0m",
      "\u001b[1;31mKeyError\u001b[0m                                  Traceback (most recent call last)",
      "Cell \u001b[1;32mIn[30], line 2\u001b[0m\n\u001b[0;32m      1\u001b[0m \u001b[39mfrom\u001b[39;00m \u001b[39mgithub\u001b[39;00m \u001b[39mimport\u001b[39;00m Github\n\u001b[1;32m----> 2\u001b[0m git_key\u001b[39m=\u001b[39mos\u001b[39m.\u001b[39;49menviron[\u001b[39m'\u001b[39;49m\u001b[39mrepo-token\u001b[39;49m\u001b[39m'\u001b[39;49m]\n\u001b[0;32m      3\u001b[0m g \u001b[39m=\u001b[39m Github(git_key)\n",
      "File \u001b[1;32mc:\\Users\\felip\\AppData\\Local\\Programs\\Python\\Python39\\lib\\os.py:679\u001b[0m, in \u001b[0;36m_Environ.__getitem__\u001b[1;34m(self, key)\u001b[0m\n\u001b[0;32m    676\u001b[0m     value \u001b[39m=\u001b[39m \u001b[39mself\u001b[39m\u001b[39m.\u001b[39m_data[\u001b[39mself\u001b[39m\u001b[39m.\u001b[39mencodekey(key)]\n\u001b[0;32m    677\u001b[0m \u001b[39mexcept\u001b[39;00m \u001b[39mKeyError\u001b[39;00m:\n\u001b[0;32m    678\u001b[0m     \u001b[39m# raise KeyError with the original key value\u001b[39;00m\n\u001b[1;32m--> 679\u001b[0m     \u001b[39mraise\u001b[39;00m \u001b[39mKeyError\u001b[39;00m(key) \u001b[39mfrom\u001b[39;00m \u001b[39mNone\u001b[39m\n\u001b[0;32m    680\u001b[0m \u001b[39mreturn\u001b[39;00m \u001b[39mself\u001b[39m\u001b[39m.\u001b[39mdecodevalue(value)\n",
      "\u001b[1;31mKeyError\u001b[0m: 'repo-token'"
     ]
    }
   ],
   "source": [
    "from github import Github\n",
    "git_key=os.environ['repo-token']\n",
    "g = Github(git_key)\n"
   ]
  },
  {
   "cell_type": "code",
   "execution_count": 27,
   "metadata": {},
   "outputs": [],
   "source": [
    "repo = g.get_user().get_repo(\"App_usuarios_last_santd\")\n",
    "all_files = []\n",
    "contents = repo.get_contents(\"\")\n",
    "while contents:\n",
    "    file_content = contents.pop(0)\n",
    "    if file_content.type == \"dir\":\n",
    "        contents.extend(repo.get_contents(file_content.path))\n",
    "    else:\n",
    "        file = file_content\n",
    "        all_files.append(str(file).replace('ContentFile(path=\"','').replace('\")',''))\n",
    "\n",
    "file = open(\"RAW_MEMBROS_BACKUP.CSV\")\n",
    "content = file.read()\n",
    "\n"
   ]
  },
  {
   "cell_type": "code",
   "execution_count": 28,
   "metadata": {},
   "outputs": [
    {
     "name": "stdout",
     "output_type": "stream",
     "text": [
      "Scripts/RAW_MEMBROS_BACKUP.csv UPDATED\n"
     ]
    }
   ],
   "source": [
    "# Upload to github\n",
    "git_prefix = 'Scripts/'\n",
    "git_file = git_prefix + 'RAW_MEMBROS_BACKUP.csv'\n",
    "if git_file in all_files:\n",
    "    contents = repo.get_contents(git_file)\n",
    "    repo.update_file(contents.path, \"committing files\", content, contents.sha, branch=\"main\")\n",
    "    print(git_file + ' UPDATED')\n",
    "else:\n",
    "    repo.create_file(git_file, \"committing files\", content, branch=\"main\")\n",
    "    print(git_file + ' CREATED')"
   ]
  }
 ],
 "metadata": {
  "kernelspec": {
   "display_name": "Python 3",
   "language": "python",
   "name": "python3"
  },
  "language_info": {
   "codemirror_mode": {
    "name": "ipython",
    "version": 3
   },
   "file_extension": ".py",
   "mimetype": "text/x-python",
   "name": "python",
   "nbconvert_exporter": "python",
   "pygments_lexer": "ipython3",
   "version": "3.9.10"
  },
  "orig_nbformat": 4,
  "vscode": {
   "interpreter": {
    "hash": "1a0efc7ed7210c8daa9aadd584bbae766f571d407ba1506112b0e572af6a4d67"
   }
  }
 },
 "nbformat": 4,
 "nbformat_minor": 2
}
